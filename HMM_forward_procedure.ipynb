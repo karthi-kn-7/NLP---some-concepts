{
 "cells": [
  {
   "cell_type": "code",
   "execution_count": 16,
   "id": "eb1c9e20-c6ac-4e19-b2ce-f14fe45b550c",
   "metadata": {},
   "outputs": [
    {
     "name": "stdin",
     "output_type": "stream",
     "text": [
      "no of states :  2\n"
     ]
    }
   ],
   "source": [
    "#getting the number of states\n",
    "ns=int(input(\"no of states : \"))"
   ]
  },
  {
   "cell_type": "code",
   "execution_count": 17,
   "id": "2a30e669-ce5f-472c-88ef-d03a308d806f",
   "metadata": {},
   "outputs": [
    {
     "name": "stdin",
     "output_type": "stream",
     "text": [
      "enter the state 1 cp\n",
      "enter the state 2 ip\n",
      "enter p for cp & cp 0.7\n",
      "enter p for cp & ip 0.3\n",
      "enter p for ip & cp 0.5\n",
      "enter p for ip & ip 0.5\n"
     ]
    }
   ],
   "source": [
    "#getting the state names and state transition probability\n",
    "sn=[]\n",
    "for i in range(2):\n",
    "    a=input(\"enter the state \"+str(i+1))\n",
    "    sn.append(a)\n",
    "sm=[]\n",
    "for i in range(ns):\n",
    "    sm1=[]\n",
    "    for j in range(ns):\n",
    "        a=float(input(\"enter p for \" + sn[i]+' & '+sn[j]))\n",
    "        sm1.append(a)\n",
    "    sm.append(sm1)"
   ]
  },
  {
   "cell_type": "code",
   "execution_count": 18,
   "id": "401bed71-0aba-44e6-93c4-f475819768fd",
   "metadata": {},
   "outputs": [
    {
     "name": "stdout",
     "output_type": "stream",
     "text": [
      "[[0.7, 0.3], [0.5, 0.5]]\n"
     ]
    }
   ],
   "source": [
    "print(sm)"
   ]
  },
  {
   "cell_type": "code",
   "execution_count": 19,
   "id": "86390f2d-03ed-44e5-806b-4613dd128a04",
   "metadata": {},
   "outputs": [
    {
     "name": "stdin",
     "output_type": "stream",
     "text": [
      "enter pi for state cp 1\n",
      "enter pi for state ip 0\n"
     ]
    }
   ],
   "source": [
    "#getting the initial probability i.e. PI value\n",
    "pi=[]\n",
    "for i in range(ns):\n",
    "    pi.append(int(input(\"enter pi for state \"+sn[i])))    "
   ]
  },
  {
   "cell_type": "code",
   "execution_count": 20,
   "id": "14f48bb9-5b14-46d8-88fc-5bdd125490b1",
   "metadata": {},
   "outputs": [
    {
     "name": "stdin",
     "output_type": "stream",
     "text": [
      "no of output :  3\n",
      "enter op name :  cola\n",
      "enter op name :  icetea\n",
      "enter op name :  lemonade\n",
      "enter the p for cp & cola 0.6\n",
      "enter the p for cp & icetea 0.1\n",
      "enter the p for cp & lemonade 0.3\n",
      "enter the p for ip & cola 0.1\n",
      "enter the p for ip & icetea 0.7\n",
      "enter the p for ip & lemonade 0.2\n"
     ]
    }
   ],
   "source": [
    "#getting ip for number fo 'outputs and their names'\n",
    "op=int(input(\"no of output : \"))\n",
    "on=[]\n",
    "d={}\n",
    "for i in range(op):\n",
    "    a=input(\"enter op name : \")\n",
    "    on.append(a)\n",
    "    d[a]=i\n",
    "pm=[]\n",
    "for i in range(ns):\n",
    "    pm1=[]\n",
    "    for j in range(op):\n",
    "        a=float(input(\"enter the p for \"+sn[i]+' & '+on[j]))\n",
    "        pm1.append(a)\n",
    "    pm.append(pm1)"
   ]
  },
  {
   "cell_type": "code",
   "execution_count": 21,
   "id": "b9340807-cc53-46c5-b3c4-cd2df65d1038",
   "metadata": {},
   "outputs": [
    {
     "name": "stdout",
     "output_type": "stream",
     "text": [
      "[[0.6, 0.1, 0.3], [0.1, 0.7, 0.2]]\n",
      "output sequence : \n"
     ]
    },
    {
     "name": "stdin",
     "output_type": "stream",
     "text": [
      " lemonade\n",
      " icetea\n",
      " cola\n"
     ]
    },
    {
     "name": "stdout",
     "output_type": "stream",
     "text": [
      "['lemonade', 'icetea', 'cola']\n"
     ]
    }
   ],
   "source": [
    "#getting ip for output sequence\n",
    "print(pm)\n",
    "os=[]\n",
    "print(\"output sequence : \")\n",
    "for i in range(op):\n",
    "    a=input()\n",
    "    os.append(a)\n",
    "print(os)"
   ]
  },
  {
   "cell_type": "code",
   "execution_count": 22,
   "id": "7aa660aa-98db-4f43-bb12-407a49f72ed0",
   "metadata": {},
   "outputs": [
    {
     "name": "stdout",
     "output_type": "stream",
     "text": [
      "lemonade\n",
      "2\n"
     ]
    }
   ],
   "source": [
    "#for understanding purpose\n",
    "print(os[0])\n",
    "print(d[os[0]])"
   ]
  },
  {
   "cell_type": "code",
   "execution_count": 27,
   "id": "d59e93da-733f-4f7d-9436-1b4263634810",
   "metadata": {},
   "outputs": [
    {
     "name": "stdout",
     "output_type": "stream",
     "text": [
      "0.21000\n",
      "0.09000\n",
      "0.04620\n",
      "0.03780\n",
      "0.02129\n",
      "0.01021\n"
     ]
    }
   ],
   "source": [
    "nn=op+1\n",
    "fm=[]\n",
    "for i in range(ns):\n",
    "    fm.append([0]*(nn))\n",
    "for k in range(ns):\n",
    "                fm[k][0]=pi[k]\n",
    "# print(fm)\n",
    "for i in range(1,op+1):\n",
    "    for j in range(ns):\n",
    "        ans=0\n",
    "        for k in range(ns):\n",
    "                ans+=fm[k][i-1]*sm[k][j]*pm[k][d[os[i-1]]]\n",
    "                # print(str(fm[k][i-1]),str(sm[k][j]),str(pm[k][d[os[i-1]]]))\n",
    "        fm[j][i]=ans\n",
    "        print('{:.5f}'.format(ans))\n",
    "                "
   ]
  },
  {
   "cell_type": "code",
   "execution_count": 28,
   "id": "caad0216-ee89-41f2-acaa-1b9075c145fb",
   "metadata": {},
   "outputs": [
    {
     "name": "stdout",
     "output_type": "stream",
     "text": [
      "p('lemonade', 'icetea', 'cola') = 0.03150\n"
     ]
    }
   ],
   "source": [
    "ans=0\n",
    "for i in range(ns):\n",
    "    ans+=fm[i][op]\n",
    "print('p{} = {:.5f}'.format(tuple(os),ans))"
   ]
  }
 ],
 "metadata": {
  "kernelspec": {
   "display_name": "Python 3 (ipykernel)",
   "language": "python",
   "name": "python3"
  },
  "language_info": {
   "codemirror_mode": {
    "name": "ipython",
    "version": 3
   },
   "file_extension": ".py",
   "mimetype": "text/x-python",
   "name": "python",
   "nbconvert_exporter": "python",
   "pygments_lexer": "ipython3",
   "version": "3.11.4"
  }
 },
 "nbformat": 4,
 "nbformat_minor": 5
}
