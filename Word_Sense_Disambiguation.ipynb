{
 "cells": [
  {
   "cell_type": "code",
   "execution_count": 5,
   "id": "15871d00-4cd3-4605-b8eb-85ce7c4ef542",
   "metadata": {},
   "outputs": [
    {
     "name": "stdin",
     "output_type": "stream",
     "text": [
      "no :  4\n",
      "str :  fish smoked fish\n",
      "cls :  f\n",
      "str :  fish line\n",
      "cls :  f\n",
      "str :  fish haul smoked\n",
      "cls :  f\n",
      "str :  guitar jazz line\n",
      "cls :  g\n"
     ]
    }
   ],
   "source": [
    "i=int(input(\"no : \"))\n",
    "d={}\n",
    "s=[]\n",
    "c=[]\n",
    "for i in range(i):\n",
    "  a=input(\"str : \")\n",
    "  b=input(\"cls : \")\n",
    "  d[a]=b\n",
    "  s.extend(a.split())\n",
    "  c.extend(b)"
   ]
  },
  {
   "cell_type": "code",
   "execution_count": 6,
   "id": "890b7653-1639-460d-acf6-db554702996c",
   "metadata": {},
   "outputs": [
    {
     "name": "stdout",
     "output_type": "stream",
     "text": [
      "{'smoked', 'jazz', 'line', 'guitar', 'haul', 'fish'}\n",
      "{'g', 'f'}\n",
      "v {'smoked', 'jazz', 'line', 'guitar', 'haul', 'fish'}\n",
      "vlen - 6\n"
     ]
    }
   ],
   "source": [
    "v=set(s)\n",
    "print(v)\n",
    "vlen=len(v)\n",
    "cset=set(c)\n",
    "print(cset)\n",
    "print('v',v)\n",
    "print('vlen -',vlen)"
   ]
  },
  {
   "cell_type": "code",
   "execution_count": 7,
   "id": "57f7c5e6-fc74-4965-aa2d-74e9083b1c0a",
   "metadata": {},
   "outputs": [
    {
     "name": "stdout",
     "output_type": "stream",
     "text": [
      "{'smoked', 'jazz', 'line', 'guitar', 'haul', 'fish'}\n",
      "g - 1\n",
      "p of g 0.25\n",
      "f - 3\n",
      "p of f 0.75\n"
     ]
    }
   ],
   "source": [
    "print(v)\n",
    "classlen=len(cset)\n",
    "newc=list(cset)\n",
    "for i in range(classlen):\n",
    "  print(newc[i],'-',c.count(newc[i]))\n",
    "  print('p of',newc[i],c.count(newc[i])/len(c))\n",
    "cset=list(cset)\n",
    "n=cset.count(c[0])"
   ]
  },
  {
   "cell_type": "code",
   "execution_count": 15,
   "id": "faddbcc5-b0e0-483c-b6c6-8a8873fbbade",
   "metadata": {},
   "outputs": [
    {
     "name": "stdin",
     "output_type": "stream",
     "text": [
      "question :  line guitar jazz jazz\n"
     ]
    }
   ],
   "source": [
    "question=input(\"question : \")\n",
    "a1=question.split()"
   ]
  },
  {
   "cell_type": "code",
   "execution_count": 25,
   "id": "c7c630c4-ee49-419c-aa19-b41fb973746c",
   "metadata": {
    "scrolled": true
   },
   "outputs": [
    {
     "name": "stdout",
     "output_type": "stream",
     "text": [
      "p (  line | g ) 1/1\n",
      "p (  line | f ) 1/3\n",
      "p (  guitar | g ) 1/1\n",
      "p (  guitar | f ) 0/3\n",
      "p (  jazz | g ) 1/1\n",
      "p (  jazz | f ) 0/3\n",
      "p (  jazz | g ) 1/1\n",
      "p (  jazz | f ) 0/3\n",
      "p(line guitar jazz jazz|g) = 0.25000\n",
      "p(line guitar jazz jazz|f) = 0.00000\n"
     ]
    }
   ],
   "source": [
    "#marginal\n",
    "cwc=0\n",
    "cc=0\n",
    "dd={}\n",
    "for j in cset:\n",
    "    dd[j]=[]\n",
    "for i in a1:\n",
    "    # each word in question\n",
    "    vl=[]\n",
    "    for j in cset:\n",
    "        cwc=0\n",
    "        cc=0\n",
    "        # EACH CLASS\n",
    "        for k in d :\n",
    "            #each sentance\n",
    "            if i in k and j == d[k]:\n",
    "                # print(i,k,j,d[k])\n",
    "                cwc+=1\n",
    "        cc=c.count(j)\n",
    "        ans=str(cwc)+'/'+str(cc)\n",
    "        vans=(cwc)/(cc)\n",
    "        # print('vans -',vans)\n",
    "        # print(v)\n",
    "        # print()\n",
    "        # print('dd   ',j,dd[j])\n",
    "        # print(cwc,cc)\n",
    "        dd[j].append(vans)\n",
    "        print('p ( ', i,'|',j,')',ans)\n",
    "        cwc=0\n",
    "        cc=0      \n",
    "# print(dd)         \n",
    "ddd={}\n",
    "for i in range(classlen):\n",
    "  ddd[newc[i]]=c.count(newc[i])/len(c)\n",
    "# print(ddd)\n",
    "for i in dd:\n",
    "    newv=ddd[i]\n",
    "    for j in dd[i]:\n",
    "        newv*=j\n",
    "    print('p({}|{}) = {:.5f}'.format(question,i,newv))\n",
    "    "
   ]
  },
  {
   "cell_type": "code",
   "execution_count": 30,
   "id": "2c35aa1e-a3a1-4397-ae65-eb627e14c46c",
   "metadata": {},
   "outputs": [
    {
     "name": "stdout",
     "output_type": "stream",
     "text": [
      "p (  line | g ) 2/7\n",
      "p (  line | f ) 2/9\n",
      "p (  guitar | g ) 2/7\n",
      "p (  guitar | f ) 1/9\n",
      "p (  jazz | g ) 2/7\n",
      "p (  jazz | f ) 1/9\n",
      "p (  jazz | g ) 2/7\n",
      "p (  jazz | f ) 1/9\n",
      "p(line guitar jazz jazz|g) = 0.00167\n",
      "p(line guitar jazz jazz|f) = 0.00023\n"
     ]
    }
   ],
   "source": [
    "#conditional\n",
    "cwc=0\n",
    "cc=0\n",
    "dd={}\n",
    "for j in cset:\n",
    "    dd[j]=[]\n",
    "for i in a1:\n",
    "    # each word in question\n",
    "    vl=[]\n",
    "    for j in cset:\n",
    "        cwc=0\n",
    "        cc=0\n",
    "        # EACH CLASS\n",
    "        for k in d :\n",
    "            #each sentance\n",
    "            if i in k and j == d[k]:\n",
    "                # print(i,k,j,d[k])\n",
    "                cwc+=1\n",
    "        cc=c.count(j)\n",
    "        ans=str(cwc+1)+'/'+str(cc+vlen)\n",
    "        vans=(cwc+1)/(cc+vlen)\n",
    "        # print('vans -',vans)\n",
    "        # print(v)\n",
    "        # print()\n",
    "        # print('dd   ',j,dd[j])\n",
    "        # print(cwc,cc)\n",
    "        dd[j].append(vans)\n",
    "        print('p ( ', i,'|',j,')',ans)\n",
    "        cwc=0\n",
    "        cc=0      \n",
    "# print(dd)         \n",
    "ddd={}\n",
    "for i in range(classlen):\n",
    "  ddd[newc[i]]=c.count(newc[i])/len(c)\n",
    "# print(ddd)\n",
    "for i in dd:\n",
    "    newv=ddd[i]\n",
    "    for j in dd[i]:\n",
    "        newv*=j\n",
    "    print('p({}|{}) = {:.5f}'.format(question,i,newv))"
   ]
  },
  {
   "cell_type": "code",
   "execution_count": 38,
   "id": "ca0c8261-baf2-467a-afa5-e22b95ad26a3",
   "metadata": {},
   "outputs": [
    {
     "name": "stdin",
     "output_type": "stream",
     "text": [
      "no :  5\n",
      "str :  Put coat back Chair sat down\n",
      "cls :  Furniture\n",
      "str :  Chair made timber company\n",
      "cls :  Furniture\n",
      "str :  Chair institute best\n",
      "cls :  Position\n",
      "str :  Award IT Chair\n",
      "cls :  Position\n",
      "str :  Type different Chair Award fun use\n",
      "cls :  Furniture\n"
     ]
    }
   ],
   "source": [
    "i=int(input(\"no : \"))\n",
    "d={}\n",
    "s=[]\n",
    "c=[]\n",
    "for i in range(i):\n",
    "  a=input(\"str : \")\n",
    "  b=input(\"cls : \")\n",
    "  d[a]=b\n",
    "  s.extend(a.split())\n",
    "  c.append(b)\n",
    "    "
   ]
  },
  {
   "cell_type": "code",
   "execution_count": 52,
   "id": "3e92cadf-aa71-4709-89b1-02b839060604",
   "metadata": {},
   "outputs": [],
   "source": [
    "v=set(s)\n",
    "# print(v)\n",
    "vlen=len(v)\n",
    "cset=set(c)\n",
    "# print(cset)\n",
    "# print('v',v)\n",
    "# print('vlen -',vlen)"
   ]
  },
  {
   "cell_type": "code",
   "execution_count": 53,
   "id": "18c81bf4-b61f-4cfe-82cb-4ed4d36e34f1",
   "metadata": {},
   "outputs": [
    {
     "name": "stdout",
     "output_type": "stream",
     "text": [
      "{'coat', 'institute', 'back', 'IT', 'best', 'down', 'different', 'timber', 'use', 'Chair', 'Award', 'Put', 'Type', 'made', 'company', 'sat', 'fun'}\n"
     ]
    }
   ],
   "source": [
    "print(v)\n",
    "classlen=len(cset)\n",
    "newc=list(cset)\n",
    "cset=list(cset)"
   ]
  },
  {
   "cell_type": "code",
   "execution_count": 41,
   "id": "9b90501c-a302-406e-bee4-ec5afd415287",
   "metadata": {},
   "outputs": [
    {
     "name": "stdin",
     "output_type": "stream",
     "text": [
      "question :  Award Chair IT company\n"
     ]
    }
   ],
   "source": [
    "question=input(\"question : \")\n",
    "a1=question.split()"
   ]
  },
  {
   "cell_type": "code",
   "execution_count": 54,
   "id": "3b7751ad-f1a1-4c99-bdc2-27fd9c09fa79",
   "metadata": {},
   "outputs": [
    {
     "name": "stdout",
     "output_type": "stream",
     "text": [
      "17\n",
      "p (  Award | Furniture ) log(2/20)\n",
      "p (  Award | Position ) log(2/19)\n",
      "p (  Chair | Furniture ) log(4/20)\n",
      "p (  Chair | Position ) log(3/19)\n",
      "p (  IT | Furniture ) log(1/20)\n",
      "p (  IT | Position ) log(2/19)\n",
      "p (  company | Furniture ) log(2/20)\n",
      "p (  company | Position ) log(1/19)\n",
      "p(Award Chair IT company|Furniture) = -14.02468\n",
      "p(Award Chair IT company|Position) = -14.72868\n"
     ]
    }
   ],
   "source": [
    "#log\n",
    "import math\n",
    "print(vlen)\n",
    "cwc=0\n",
    "cc=0\n",
    "dd={}\n",
    "for j in cset:\n",
    "    dd[j]=[]\n",
    "for i in a1:\n",
    "    # each word in question\n",
    "    vl=[]\n",
    "    for j in cset:\n",
    "        cwc=0\n",
    "        cc=0\n",
    "        # EACH CLASS\n",
    "        for k in d :\n",
    "            #each sentance\n",
    "            if i in k and j == d[k]:\n",
    "                # print(i,k,j,d[k])\n",
    "                cwc+=1\n",
    "        cc=c.count(j)\n",
    "        ans='log('+str(cwc+1)+'/'+str(cc+vlen)+')'\n",
    "        vans=math.log2((cwc+1)/(cc+vlen))\n",
    "        dd[j].append(vans)\n",
    "        print('p ( ', i,'|',j,')',ans)\n",
    "        cwc=0\n",
    "        cc=0      \n",
    "# print(dd)         \n",
    "ddd={}\n",
    "for i in range(classlen):\n",
    "  ddd[newc[i]]=math.log2(c.count(newc[i])/len(c))\n",
    "# print(ddd)\n",
    "for i in dd:\n",
    "    newv=ddd[i]\n",
    "    for j in dd[i]:\n",
    "        newv+=j\n",
    "    print('p({}|{}) = {:.5f}'.format(question,i,newv))\n",
    "    "
   ]
  }
 ],
 "metadata": {
  "kernelspec": {
   "display_name": "Python 3 (ipykernel)",
   "language": "python",
   "name": "python3"
  },
  "language_info": {
   "codemirror_mode": {
    "name": "ipython",
    "version": 3
   },
   "file_extension": ".py",
   "mimetype": "text/x-python",
   "name": "python",
   "nbconvert_exporter": "python",
   "pygments_lexer": "ipython3",
   "version": "3.11.4"
  }
 },
 "nbformat": 4,
 "nbformat_minor": 5
}
