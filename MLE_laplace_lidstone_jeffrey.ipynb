{
 "cells": [
  {
   "cell_type": "code",
   "execution_count": 21,
   "id": "5ff7b952-394e-46bc-8a02-3f5520f8f472",
   "metadata": {},
   "outputs": [
    {
     "name": "stdin",
     "output_type": "stream",
     "text": [
      "no. of lines : 3\n",
      "line  :  + I am Sam -\n",
      "line  :  + Sam I am -\n",
      "line  :  + I do not like green eggs -\n"
     ]
    }
   ],
   "source": [
    "import nltk\n",
    "a=int(input(\"no. of lines :\"))\n",
    "t=[]\n",
    "s=[]\n",
    "for i in range(a):\n",
    "    b=input(\"line \"+str()+' : ')\n",
    "    s.extend(b.split())\n",
    "    t.append(b)"
   ]
  },
  {
   "cell_type": "code",
   "execution_count": 37,
   "id": "74f2ff4e-0f30-472d-a5c8-2dbeb5a1e384",
   "metadata": {},
   "outputs": [
    {
     "name": "stdout",
     "output_type": "stream",
     "text": [
      "v 10\n",
      "{'like': 1, 'do': 1, 'Sam': 2, 'am': 2, 'not': 1, 'green': 1, '+': 3, 'eggs': 1, '-': 3, 'I': 3}\n"
     ]
    }
   ],
   "source": [
    "# print(s)\n",
    "s1=set(s)#unique word set\n",
    "v=len(s1)\n",
    "s1=list(s1)\n",
    "d={}\n",
    "print('v',v)\n",
    "for i in s1:\n",
    "    d[i]=s.count(i)\n",
    "print(d)\n"
   ]
  },
  {
   "cell_type": "code",
   "execution_count": 38,
   "id": "d976095e-e55c-411b-8880-f56c6556ce04",
   "metadata": {},
   "outputs": [
    {
     "name": "stdin",
     "output_type": "stream",
     "text": [
      "Sentance :  + I am Sam green -\n"
     ]
    },
    {
     "name": "stdout",
     "output_type": "stream",
     "text": [
      "[('+', 'I'), ('I', 'am'), ('am', 'Sam'), ('Sam', 'green'), ('green', '-')]\n"
     ]
    }
   ],
   "source": [
    "c=input(\"Sentance : \")\n",
    "csplit=c.split()\n",
    "bi=list(nltk.bigrams(csplit))\n",
    "print(bi)\n"
   ]
  },
  {
   "cell_type": "code",
   "execution_count": 66,
   "id": "b7f680e7-7fc4-4303-8f19-1db988d0719e",
   "metadata": {},
   "outputs": [
    {
     "name": "stdout",
     "output_type": "stream",
     "text": [
      "p(I|+) = 2/3\n",
      "p(am|I) = 2/3\n",
      "p(Sam|am) = 1/2\n",
      "p(green|Sam) = 0/2\n",
      "p(-|green) = 0/1\n",
      "p(+ I am Sam green -) = 0.0 \n"
     ]
    }
   ],
   "source": [
    "#MLE\n",
    "p=[]\n",
    "for i in bi:\n",
    "    c2t=' '.join(i)\n",
    "    c1t=i[0]\n",
    "    c1=d[c1t]\n",
    "    c2=0\n",
    "    for j in t:\n",
    "        if c2t in j:\n",
    "            c2+=1\n",
    "    ans=c2/c1\n",
    "    print('p({}|{}) = {}'.format(i[1],c1t,str(c2 )+'/'+str(c1)))\n",
    "    p.append(ans)\n",
    "ans=1\n",
    "for i in p:\n",
    "    ans*=i\n",
    "print('p({}) = {} '.format(c,ans))"
   ]
  },
  {
   "cell_type": "code",
   "execution_count": 61,
   "id": "7bd799fa-e0d0-4782-98c6-7b29d4966eb9",
   "metadata": {},
   "outputs": [
    {
     "name": "stdout",
     "output_type": "stream",
     "text": [
      "p(I|+) = 3/13\n",
      "p(am|I) = 3/13\n",
      "p(Sam|am) = 2/12\n",
      "p(green|Sam) = 1/12\n",
      "p(-|green) = 1/11\n",
      "p(+ I am Sam green -) = 6.72e-05 \n"
     ]
    }
   ],
   "source": [
    "#laplace\n",
    "p=[]\n",
    "for i in bi:\n",
    "    c2t=' '.join(i)\n",
    "    c1t=i[0]\n",
    "    c1=d[c1t]\n",
    "    c2=0\n",
    "    for j in t:\n",
    "        if c2t in j:\n",
    "            c2+=1\n",
    "    ans=(c2 + 1)/(c1 + v)\n",
    "    print('p({}|{}) = {}'.format(i[1],c1t,str(c2 + 1)+'/'+str(c1 + v)))\n",
    "    p.append(ans)\n",
    "ans=1\n",
    "for i in p:\n",
    "    ans*=i\n",
    "print('p({}) = {:.3} '.format(c,ans))"
   ]
  },
  {
   "cell_type": "code",
   "execution_count": 62,
   "id": "62faa3ca-ade0-40a2-88d2-09b2402d98db",
   "metadata": {},
   "outputs": [
    {
     "name": "stdout",
     "output_type": "stream",
     "text": [
      "p(I|+) = 3/13\n",
      "p(am|I) = 3/13\n",
      "p(Sam|am) = 2/12\n",
      "p(green|Sam) = 1/12\n",
      "p(-|green) = 1/11\n",
      "p(+ I am Sam green -) = 0.000125 \n"
     ]
    }
   ],
   "source": [
    "#laplace\n",
    "p=[]\n",
    "for i in bi:\n",
    "    c2t=' '.join(i)\n",
    "    c1t=i[0]\n",
    "    c1=d[c1t]\n",
    "    c2=0\n",
    "    for j in t:\n",
    "        if c2t in j:\n",
    "            c2+=1\n",
    "    ans=(c2 + 0.5)/(c1 + (0.5*v))\n",
    "    print('p({}|{}) = {}'.format(i[1],c1t,str(c2 + 1)+'/'+str(c1 + v)))\n",
    "    p.append(ans)\n",
    "ans=1\n",
    "for i in p:\n",
    "    ans*=i\n",
    "print('p({}) = {:.3} '.format(c,ans))"
   ]
  },
  {
   "cell_type": "code",
   "execution_count": 64,
   "id": "84d95cc9-aaf6-4161-b2bf-3996535422ae",
   "metadata": {},
   "outputs": [
    {
     "name": "stdout",
     "output_type": "stream",
     "text": [
      "u 0.375\n",
      "p(I|+) = 0.25+0.0625 = 0.3125\n",
      "u 0.375\n",
      "p(am|I) = 0.25+0.0625 = 0.3125\n",
      "u 0.2857\n",
      "p(Sam|am) = 0.1429+0.0714 = 0.2143\n",
      "u 0.2857\n",
      "p(green|Sam) = 0.0+0.0714 = 0.0714\n",
      "u 0.1667\n",
      "p(-|green) = 0.0+0.0833 = 0.0833\n",
      "p(+ I am Sam green -) = 0.000125 \n"
     ]
    }
   ],
   "source": [
    "#jeffrey's law\n",
    "p=[]\n",
    "for i in bi:\n",
    "    c2t=' '.join(i)\n",
    "    c1t=i[0]\n",
    "    c1=d[c1t]\n",
    "    c2=0\n",
    "    for j in t:\n",
    "        if c2t in j:\n",
    "            c2+=1\n",
    "    u=round(c1/(c1+(0.5*v)),4)\n",
    "    print('u',u)\n",
    "    ans=((u*c2)/(c1))+((1-u)/v)\n",
    "    print('p({}|{}) = {} = {:.4f}'.format(i[1],c1t,str(round((u*c2)/(c1),4))+'+'+str(round((1-u)/v,4)),ans))\n",
    "    p.append(ans)\n",
    "ans=1\n",
    "for i in p:\n",
    "    ans*=i\n",
    "print('p({}) = {:.3} '.format(c,ans))"
   ]
  }
 ],
 "metadata": {
  "kernelspec": {
   "display_name": "Python 3 (ipykernel)",
   "language": "python",
   "name": "python3"
  },
  "language_info": {
   "codemirror_mode": {
    "name": "ipython",
    "version": 3
   },
   "file_extension": ".py",
   "mimetype": "text/x-python",
   "name": "python",
   "nbconvert_exporter": "python",
   "pygments_lexer": "ipython3",
   "version": "3.11.4"
  }
 },
 "nbformat": 4,
 "nbformat_minor": 5
}
